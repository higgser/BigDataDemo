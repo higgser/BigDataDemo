{
 "cells": [
  {
   "cell_type": "markdown",
   "metadata": {},
   "source": [
    "The Scala kernel does not define any magic codes."
   ]
  },
  {
   "cell_type": "markdown",
   "metadata": {},
   "source": [
    "\n",
    "\n",
    "### Datatypes\n",
    "* Byte, Short, Int, Long\n",
    "* Float, Double\n",
    "* String"
   ]
  },
  {
   "cell_type": "markdown",
   "metadata": {},
   "source": [
    "String literals"
   ]
  },
  {
   "cell_type": "code",
   "execution_count": 16,
   "metadata": {
    "collapsed": false
   },
   "outputs": [
    {
     "name": "stdout",
     "output_type": "stream",
     "text": [
      "Hello, James\n"
     ]
    },
    {
     "data": {
      "text/plain": [
       "\u001b[36mname\u001b[0m: java.lang.String = \u001b[32m\"James\"\u001b[0m"
      ]
     },
     "metadata": {},
     "output_type": "display_data"
    }
   ],
   "source": [
    "val name = \"James\"\n",
    "println(s\"Hello, $name\")"
   ]
  },
  {
   "cell_type": "markdown",
   "metadata": {},
   "source": [
    "### Define Collections, Arrays, Maps"
   ]
  },
  {
   "cell_type": "code",
   "execution_count": 23,
   "metadata": {
    "collapsed": false
   },
   "outputs": [
    {
     "data": {
      "text/plain": [
       "\u001b[36mvalues\u001b[0m: List[Int] = \u001b[33mList\u001b[0m(\u001b[32m1\u001b[0m, \u001b[32m2\u001b[0m, \u001b[32m3\u001b[0m)\n",
       "\u001b[36mres14_1\u001b[0m: List[Int] = \u001b[33mList\u001b[0m(\u001b[32m4\u001b[0m, \u001b[32m1\u001b[0m, \u001b[32m2\u001b[0m, \u001b[32m3\u001b[0m)"
      ]
     },
     "metadata": {},
     "output_type": "display_data"
    }
   ],
   "source": [
    "val values = List(1,2,3)\n",
    "4 :: values"
   ]
  },
  {
   "cell_type": "code",
   "execution_count": 24,
   "metadata": {
    "collapsed": false
   },
   "outputs": [
    {
     "data": {
      "text/plain": [
       "\u001b[36mvalues\u001b[0m: List[Int] = \u001b[33mList\u001b[0m(\u001b[32m1\u001b[0m, \u001b[32m2\u001b[0m, \u001b[32m3\u001b[0m)"
      ]
     },
     "metadata": {},
     "output_type": "display_data"
    }
   ],
   "source": [
    "val values = 1 :: 2 :: 3 :: Nil"
   ]
  },
  {
   "cell_type": "code",
   "execution_count": null,
   "metadata": {
    "collapsed": true
   },
   "outputs": [],
   "source": [
    "val array = Array.range(1,5)\n",
    "0 to 2"
   ]
  },
  {
   "cell_type": "code",
   "execution_count": null,
   "metadata": {
    "collapsed": false
   },
   "outputs": [],
   "source": [
    "val map = Map(\"Bob\" -> 33, \"Anton\" -> 35)"
   ]
  },
  {
   "cell_type": "code",
   "execution_count": null,
   "metadata": {
    "collapsed": false
   },
   "outputs": [],
   "source": [
    "var map = Map[String,Int]()\n",
    "map += (\"Bob\" -> 28)\n",
    "map += (\"Mary\" -> 29)"
   ]
  },
  {
   "cell_type": "code",
   "execution_count": null,
   "metadata": {
    "collapsed": false
   },
   "outputs": [],
   "source": [
    "val map = collection.mutable.HashMap[String,Int]()\n",
    "map += (\"Bob\" -> 28)\n",
    "map += (\"Mary\" -> 29)"
   ]
  },
  {
   "cell_type": "markdown",
   "metadata": {},
   "source": [
    "### Tuples"
   ]
  },
  {
   "cell_type": "markdown",
   "metadata": {},
   "source": [
    "Tuples can contains mixed types."
   ]
  },
  {
   "cell_type": "code",
   "execution_count": 29,
   "metadata": {
    "collapsed": false
   },
   "outputs": [
    {
     "data": {
      "text/plain": [
       "\u001b[36mtuple\u001b[0m: (Int, java.lang.String) = \u001b[33m\u001b[0m(\u001b[32m1\u001b[0m, \u001b[32m\"String\"\u001b[0m)\n",
       "\u001b[36mres20_1\u001b[0m: java.lang.String = \u001b[32m\"String\"\u001b[0m"
      ]
     },
     "metadata": {},
     "output_type": "display_data"
    }
   ],
   "source": [
    "val tuple = (1, \"String\")\n",
    "tuple._2"
   ]
  },
  {
   "cell_type": "markdown",
   "metadata": {},
   "source": [
    "### Define function"
   ]
  },
  {
   "cell_type": "code",
   "execution_count": null,
   "metadata": {
    "collapsed": false
   },
   "outputs": [],
   "source": [
    "def cube(x: Int) = x*x*x"
   ]
  },
  {
   "cell_type": "code",
   "execution_count": 30,
   "metadata": {
    "collapsed": false
   },
   "outputs": [
    {
     "data": {
      "text/plain": [
       "defined \u001b[32mfunction \u001b[36mfac\u001b[0m"
      ]
     },
     "metadata": {},
     "output_type": "display_data"
    }
   ],
   "source": [
    "def fac(x: Int): Int = if (x>1) x*fac(x-1) else x"
   ]
  },
  {
   "cell_type": "code",
   "execution_count": 45,
   "metadata": {
    "collapsed": false
   },
   "outputs": [
    {
     "data": {
      "text/plain": [
       "defined \u001b[32mfunction \u001b[36mexp\u001b[0m\n",
       "\u001b[36mres29_1\u001b[0m: Double = \u001b[32m9.000000000000002\u001b[0m"
      ]
     },
     "metadata": {},
     "output_type": "display_data"
    }
   ],
   "source": [
    "def exp(x: Double, n: Int = 2) = Math.exp(Math.log(x)*n)\n",
    "exp(n=2, x=3)"
   ]
  },
  {
   "cell_type": "markdown",
   "metadata": {},
   "source": [
    "### Writing functional loop"
   ]
  },
  {
   "cell_type": "code",
   "execution_count": null,
   "metadata": {
    "collapsed": false
   },
   "outputs": [],
   "source": [
    "values.map(cube)"
   ]
  },
  {
   "cell_type": "code",
   "execution_count": null,
   "metadata": {
    "collapsed": false
   },
   "outputs": [],
   "source": [
    "values.map(x => x*x*x)"
   ]
  },
  {
   "cell_type": "code",
   "execution_count": null,
   "metadata": {
    "collapsed": false
   },
   "outputs": [],
   "source": [
    "values.map(fac).sum"
   ]
  },
  {
   "cell_type": "markdown",
   "metadata": {},
   "source": [
    "### Operators and equal"
   ]
  },
  {
   "cell_type": "markdown",
   "metadata": {},
   "source": [
    "### Implementation of WordCount"
   ]
  },
  {
   "cell_type": "code",
   "execution_count": 7,
   "metadata": {
    "collapsed": false
   },
   "outputs": [
    {
     "data": {
      "text/plain": [
       "\u001b[36mlines\u001b[0m: scala.Array[String] = \u001b[33mArray\u001b[0m(\n",
       "  \u001b[32m\"# README #\"\u001b[0m,\n",
       "  \u001b[32m\"\"\u001b[0m,\n",
       "  \u001b[32m\"This README would normally document whatever steps are necessary to get your application up and running.\"\u001b[0m,\n",
       "  \u001b[32m\"\"\u001b[0m,\n",
       "  \u001b[32m\"### What is this repository for? ###\"\u001b[0m,\n",
       "  \u001b[32m\"\"\u001b[0m,\n",
       "  \u001b[32m\"* Quick summary\"\u001b[0m,\n",
       "  \u001b[32m\"* Version\"\u001b[0m,\n",
       "  \u001b[32m\"* [Learn Markdown](https://bitbucket.org/tutorials/markdowndemo)\"\u001b[0m,\n",
       "  \u001b[32m\"\"\u001b[0m,\n",
       "  \u001b[32m\"### How do I get set up? ###\"\u001b[0m,\n",
       "  \u001b[32m\"\"\u001b[0m,\n",
       "  \u001b[32m\"* Summary of set up\"\u001b[0m,\n",
       "\u001b[33m...\u001b[0m"
      ]
     },
     "metadata": {},
     "output_type": "display_data"
    }
   ],
   "source": [
    "val lines = scala.io.Source.fromFile(\"README.md\").getLines.toArray"
   ]
  },
  {
   "cell_type": "code",
   "execution_count": 19,
   "metadata": {
    "collapsed": false
   },
   "outputs": [
    {
     "data": {
      "text/plain": [
       "\u001b[36mwords\u001b[0m: scala.Array[java.lang.String] = \u001b[33mArray\u001b[0m(\n",
       "  \u001b[32m\"readme\"\u001b[0m,\n",
       "  \u001b[32m\"this\"\u001b[0m,\n",
       "  \u001b[32m\"readme\"\u001b[0m,\n",
       "  \u001b[32m\"would\"\u001b[0m,\n",
       "  \u001b[32m\"normally\"\u001b[0m,\n",
       "  \u001b[32m\"document\"\u001b[0m,\n",
       "  \u001b[32m\"whatever\"\u001b[0m,\n",
       "  \u001b[32m\"steps\"\u001b[0m,\n",
       "  \u001b[32m\"are\"\u001b[0m,\n",
       "  \u001b[32m\"necessary\"\u001b[0m,\n",
       "  \u001b[32m\"to\"\u001b[0m,\n",
       "  \u001b[32m\"get\"\u001b[0m,\n",
       "  \u001b[32m\"your\"\u001b[0m,\n",
       "  \u001b[32m\"application\"\u001b[0m,\n",
       "\u001b[33m...\u001b[0m\n",
       "\u001b[36mcounts\u001b[0m: scala.collection.mutable.Map[String,Int] = Map(writing -> 1, is -> 1, contribution -> 1, contact -> 1, do -> 2, set -> 2, of -> 1, guidelines -> 2, up? -> 1, or -> 2, tests -> 2, get -> 2, repository -> 1, how -> 2, review -> 1, instructions -> 1, necessary -> 1, to -> 2, owner -> 1, would -> 1, and -> 1, who -> 1, summary -> 2, [learn -> 1, document -> 1, admin -> 1, running. -> 1, markdown](https://bitbucket.org/tutorials/markdowndemo) -> 1, code -> 1, are -> 1, database -> 1, readme -> 2, application -> 1, normally -> 1, configuration -> 2, run -> 1, up -> 2, for? -> 1, whatever -> 1, i -> 2, repo -> 1, dependencies -> 1, quick -> 1, steps -> 1, team -> 1, your -> 1, talk -> 1, what -> 1, this -> 2, to? -> 1, deployment -> 1, version -> 1, other -> 2, community -> 1)"
      ]
     },
     "metadata": {},
     "output_type": "display_data"
    }
   ],
   "source": [
    "val words = lines.map(_.toLowerCase).flatMap(_.split(\" \")).filter(!_.contains(\"#\")).filter(_!=\"\").filter(_!=\"*\")\n",
    "var counts = collection.mutable.HashMap[String, Int]().withDefaultValue(0)\n",
    "words.foreach(word => counts(word) += 1)"
   ]
  },
  {
   "cell_type": "code",
   "execution_count": 26,
   "metadata": {
    "collapsed": false
   },
   "outputs": [
    {
     "data": {
      "text/plain": [
       "\u001b[36memptyCounts\u001b[0m: scala.collection.immutable.Map[String,Int] = \u001b[33mMap\u001b[0m()\n",
       "\u001b[36mcounts\u001b[0m: scala.collection.immutable.Map[String,Int] = \u001b[33mMap\u001b[0m(\n",
       "  \u001b[32m\"writing\"\u001b[0m -> \u001b[32m1\u001b[0m,\n",
       "  \u001b[32m\"application\"\u001b[0m -> \u001b[32m1\u001b[0m,\n",
       "  \u001b[32m\"database\"\u001b[0m -> \u001b[32m1\u001b[0m,\n",
       "  \u001b[32m\"markdown](https://bitbucket.org/tutorials/markdowndemo)\"\u001b[0m -> \u001b[32m1\u001b[0m,\n",
       "  \u001b[32m\"community\"\u001b[0m -> \u001b[32m1\u001b[0m,\n",
       "  \u001b[32m\"admin\"\u001b[0m -> \u001b[32m1\u001b[0m,\n",
       "  \u001b[32m\"review\"\u001b[0m -> \u001b[32m1\u001b[0m,\n",
       "  \u001b[32m\"this\"\u001b[0m -> \u001b[32m2\u001b[0m,\n",
       "  \u001b[32m\"your\"\u001b[0m -> \u001b[32m1\u001b[0m,\n",
       "  \u001b[32m\"are\"\u001b[0m -> \u001b[32m1\u001b[0m,\n",
       "  \u001b[32m\"is\"\u001b[0m -> \u001b[32m1\u001b[0m,\n",
       "  \u001b[32m\"deployment\"\u001b[0m -> \u001b[32m1\u001b[0m,\n",
       "  \u001b[32m\"repository\"\u001b[0m -> \u001b[32m1\u001b[0m,\n",
       "  \u001b[32m\"what\"\u001b[0m -> \u001b[32m1\u001b[0m,\n",
       "\u001b[33m...\u001b[0m"
      ]
     },
     "metadata": {},
     "output_type": "display_data"
    }
   ],
   "source": [
    "val emptyCounts = Map[String,Int]().withDefaultValue(0)\n",
    "val counts = words.foldLeft(emptyCounts)({(currentCounts: Map[String,Int], word: String) => currentCounts.updated(word, currentCounts(word) + 1)})"
   ]
  },
  {
   "cell_type": "code",
   "execution_count": 18,
   "metadata": {
    "collapsed": false
   },
   "outputs": [
    {
     "data": {
      "text/plain": [
       "\u001b[36mres10\u001b[0m: java.lang.String = \u001b[32m\"hoo\"\u001b[0m"
      ]
     },
     "metadata": {},
     "output_type": "display_data"
    }
   ],
   "source": [
    "\"Hoo\".toLowerCase"
   ]
  },
  {
   "cell_type": "code",
   "execution_count": null,
   "metadata": {
    "collapsed": true
   },
   "outputs": [],
   "source": []
  }
 ],
 "metadata": {
  "kernelspec": {
   "display_name": "Scala 2.10",
   "language": "scala210",
   "name": "scala210"
  },
  "language_info": {
   "codemirror_mode": "text/x-scala",
   "file_extension": "scala",
   "mimetype": "text/x-scala",
   "name": "scala210",
   "pygments_lexer": "scala",
   "version": "2.10.5"
  }
 },
 "nbformat": 4,
 "nbformat_minor": 0
}
